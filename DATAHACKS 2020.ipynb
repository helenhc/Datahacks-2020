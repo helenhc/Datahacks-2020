{
 "cells": [
  {
   "cell_type": "code",
   "execution_count": 2,
   "metadata": {},
   "outputs": [],
   "source": [
    "import os\n",
    "import pandas as pd\n",
    "import numpy as np"
   ]
  },
  {
   "cell_type": "code",
   "execution_count": 22,
   "metadata": {},
   "outputs": [],
   "source": [
    "barts_hotspot = os.path.join('barts_hotspots.csv')\n",
    "barts_to_all = os.path.join('barts_to_all.csv')\n",
    "hotspot = os.path.join('hotspots_to_all.csv')\n",
    "q1 = os.path.join('hours_q1.csv')\n",
    "q2 = os.path.join('hours_q2.csv')\n",
    "\n",
    "barts_hotspot = pd.read_csv(barts_hotspot)\n",
    "barts_to_all = pd.read_csv(barts_to_all)\n",
    "hotspot = pd.read_csv(hotspot)\n",
    "q1 = pd.read_csv(q1)\n",
    "q2 = pd.read_csv(q2)"
   ]
  },
  {
   "cell_type": "code",
   "execution_count": 20,
   "metadata": {},
   "outputs": [
    {
     "data": {
      "text/plain": [
       "array([3396, 3603, 3792, 3394, 3692, 3760])"
      ]
     },
     "execution_count": 20,
     "metadata": {},
     "output_type": "execute_result"
    }
   ],
   "source": [
    "barts_hotspot[['Origin Movement ID', 'Origin Display Name', 'Destination Movement ID', 'Destination Display Name']]\n",
    "barts_hotspot['Origin Movement ID'].unique()"
   ]
  },
  {
   "cell_type": "code",
   "execution_count": 21,
   "metadata": {},
   "outputs": [
    {
     "data": {
      "text/plain": [
       "array([3603, 3394, 3396, 3792, 3692, 3760])"
      ]
     },
     "execution_count": 21,
     "metadata": {},
     "output_type": "execute_result"
    }
   ],
   "source": [
    "barts_hotspot['Destination Movement ID'].unique()"
   ]
  },
  {
   "cell_type": "code",
   "execution_count": 51,
   "metadata": {},
   "outputs": [
    {
     "data": {
      "text/plain": [
       "array(['Embarcadero, San Francisco, CA',\n",
       "       \"Fisherman's Wharf, San Francisco, CA\",\n",
       "       'The Palace Of Fine Arts, 3601 Lyon St, San Francisco, CA',\n",
       "       'Oracle Park, 24 Willie Mays Plaza, San Francisco, CA',\n",
       "       '2nd Street and Stevenson Street (Montgomery BART, San Francisco, CA',\n",
       "       'Powell BART Station, Market St and Powell St, San Francisco, CA',\n",
       "       \"Fisherman's Wharf, 286-298 Jefferson St, San Francisco, CA\"],\n",
       "      dtype=object)"
      ]
     },
     "execution_count": 51,
     "metadata": {},
     "output_type": "execute_result"
    }
   ],
   "source": [
    "barts_hotspot['Destination Display Name'].unique()"
   ]
  },
  {
   "cell_type": "code",
   "execution_count": 53,
   "metadata": {},
   "outputs": [
    {
     "data": {
      "text/plain": [
       "6"
      ]
     },
     "execution_count": 53,
     "metadata": {},
     "output_type": "execute_result"
    }
   ],
   "source": [
    "barts_hotspot['Destination Display Name'] = barts_hotspot['Destination Display Name'].replace(\"Fisherman's Wharf, San Francisco, CA\",\"Fisherman's Wharf, 286-298 Jefferson St, San Francisco, CA\")\n",
    "barts_hotspot['Destination Display Name'].nunique()"
   ]
  },
  {
   "cell_type": "code",
   "execution_count": 54,
   "metadata": {},
   "outputs": [
    {
     "data": {
      "text/plain": [
       "6"
      ]
     },
     "execution_count": 54,
     "metadata": {},
     "output_type": "execute_result"
    }
   ],
   "source": [
    "barts_hotspot['Destination Display Name'].nunique()"
   ]
  },
  {
   "cell_type": "code",
   "execution_count": null,
   "metadata": {},
   "outputs": [],
   "source": []
  }
 ],
 "metadata": {
  "kernelspec": {
   "display_name": "Python 3",
   "language": "python",
   "name": "python3"
  },
  "language_info": {
   "codemirror_mode": {
    "name": "ipython",
    "version": 3
   },
   "file_extension": ".py",
   "mimetype": "text/x-python",
   "name": "python",
   "nbconvert_exporter": "python",
   "pygments_lexer": "ipython3",
   "version": "3.7.4"
  }
 },
 "nbformat": 4,
 "nbformat_minor": 2
}
